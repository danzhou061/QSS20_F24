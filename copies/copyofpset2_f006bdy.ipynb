{
 "cells": [
  {
   "cell_type": "markdown",
   "metadata": {},
   "source": [
    "## Problem Set 2: Merging and regular expressions\n",
    "\n",
    "**Total points (without extra credit)**: 30 \n",
    "\n",
    "**Background on the policy context**: here, we're going to use two datasets to practice reshaping, merging, and regular expression patterns. Both datasets relate to the broader issue of which employers might be violating the rights of temporary guestworkers granted visas under the H-2A program. Here are some articles about potential exploitation of guestworkers by firms and inequality caused by minimal oversight:\n",
    "\n",
    "- News media coverage of labor abuses of temporary guestworkers: https://www.buzzfeednews.com/article/kenbensinger/the-pushovers \n",
    "- GAO report on labor abuses of temporary guestworkers: https://www.gao.gov/products/gao-15-154\n",
    "\n",
    "The following datasets are located in `pset2_inputdata` (need to unzip): \n",
    "\n",
    "- `jobs_clean`: a dataset of guestworker jobs posted by many employers, some of whom have been debarred (banned) from the program for labor abuses; others not debarred\n",
    "- `debar`: a dataset of employers who committed violations of labor regulations meant to protect temporary guestworkers \n",
    "\n",
    "\n",
    "You can view a codebook here: https://docs.google.com/spreadsheets/d/1rF9GJEC8pPKxipD0TsoG9DVdqz3EJ-b-BHEtyioAX7I/edit?usp=sharing\n"
   ]
  },
  {
   "cell_type": "code",
   "execution_count": 12,
   "metadata": {},
   "outputs": [],
   "source": [
    "## helpful packages\n",
    "import pandas as pd\n",
    "import numpy as np\n",
    "import random\n",
    "import re\n",
    "import os\n",
    "\n",
    "## repeated printouts\n",
    "from IPython.core.interactiveshell import InteractiveShell\n",
    "InteractiveShell.ast_node_interactivity = \"all\""
   ]
  },
  {
   "cell_type": "markdown",
   "metadata": {},
   "source": [
    "# 1. Reshaping data (13 points total)"
   ]
  },
  {
   "cell_type": "markdown",
   "metadata": {},
   "source": [
    "Load the following dataset stored in `pset2_inputdata`: `debar.csv`\n",
    "\n",
    "This represents employers temporarily banned from hiring workers (debar.csv); call this `debar`\n",
    "\n",
    "\n",
    "View the head()\n"
   ]
  },
  {
   "cell_type": "code",
   "execution_count": 44,
   "metadata": {},
   "outputs": [
    {
     "name": "stdout",
     "output_type": "stream",
     "text": [
      "                               Name     City, State  \\\n",
      "0                    J&J Harvesting       Leads, ND   \n",
      "1            Stahlman Apiaries, Inc       Selby, SD   \n",
      "2                     Trust Nursery     Pulaski, NY   \n",
      "3             Anton Fertilizer Inc.     Dighton, KS   \n",
      "4  Great Plains Fluid Service, Inc.  Greensburg, KS   \n",
      "\n",
      "                                        Violation Duration Start date  \\\n",
      "0  Failure to respond to audit (partial response)  2 years  1/19/2014   \n",
      "1  Failure to respond to audit (partial response)   1 year  2/19/2015   \n",
      "2  Failure to respond to audit (partial response)   1 year  3/21/2014   \n",
      "3       Failure to respond to audit (no response)  2 years  3/30/2014   \n",
      "4       Failure to respond to audit (no response)  2 years  3/30/2014   \n",
      "\n",
      "    End date  \n",
      "0  1/18/2016  \n",
      "1  2/14/2016  \n",
      "2  3/20/2015  \n",
      "3  3/29/2016  \n",
      "4  3/29/2016  \n"
     ]
    }
   ],
   "source": [
    "## read data and print head\n",
    "\n",
    "debar = pd.read_csv(\"/Users/danielzhou/Documents/GitHub/my_QSS20/my_homework/pset2_inputdata/debar.csv\")\n",
    "print(debar.head())"
   ]
  },
  {
   "cell_type": "markdown",
   "metadata": {},
   "source": [
    "## 1.1 (1 point)\n",
    "\n",
    "Print the number of rows in `debar` versus the number of unique employer names (`Name`). Is there one row per employer or multiple rows for some employers?"
   ]
  },
  {
   "cell_type": "code",
   "execution_count": 46,
   "metadata": {},
   "outputs": [
    {
     "name": "stdout",
     "output_type": "stream",
     "text": [
      "Total Rows: 114\n",
      "Unique Rows: 98\n"
     ]
    }
   ],
   "source": [
    "total_rows = debar.shape[0]\n",
    "unique_rows = debar['Name'].nunique()\n",
    "print('Total Rows: ' + str(total_rows))\n",
    "print('Unique Rows: ' + str(unique_rows))"
   ]
  },
  {
   "cell_type": "code",
   "execution_count": null,
   "metadata": {},
   "outputs": [],
   "source": [
    "# Q) Is there one row per employer or multiple rows for some employers?\n",
    "# A) There are multiple rows for some employers. "
   ]
  },
  {
   "cell_type": "markdown",
   "metadata": {},
   "source": [
    "## 1.2 Investigating duplicated rows (2 points)\n",
    "\n",
    "A. Create a new column in `debar`--`is_repeated`-- that tells us whether an employer (`Name`) is repeated > 1 times\n",
    "\n",
    "*Hint*: there are multiple ways to solve this but some possibilities to get the list of names that are repeated are:\n",
    "- Using value_counts() on the `Name` variable and extracting the index from that value counts \n",
    "- Using groupby to count the rows attached to one name\n",
    "\n",
    "B. Print the rows where `is_repeated == True` and interpret\n",
    "\n",
    "C. Subset to the rows where `is_repeated == True` and save that data as `mult_debar`. Print the head() and shape"
   ]
  },
  {
   "cell_type": "code",
   "execution_count": 98,
   "metadata": {},
   "outputs": [
    {
     "name": "stdout",
     "output_type": "stream",
     "text": [
      "                                        Name       City, State  \\\n",
      "6                    Annabella Land & Cattle     Annabella, UT   \n",
      "7                        Autumn Hill Orchard        Groton, MA   \n",
      "8      Caddo Creek Ranch, dba Paradise Ranch         Caddo, TX   \n",
      "11                     Loewen Harvesting LLC   Brownsville, TX   \n",
      "12               Rollo Farm Labor Contractor         Miami, FL   \n",
      "14                             Sharon Mathis        Tifton, GA   \n",
      "15                                 SRT Farms        Morton, TX   \n",
      "16                               Mark Duncan     Roosevelt, UT   \n",
      "17          Maple Ridge Custom Services, LLC     Altheimer, AK   \n",
      "18                                 F&W Farms       Ingalls, KS   \n",
      "19                        Cisco Produce Inc.         Cairo, GA   \n",
      "21   Old Tree Farms/Verpaalen Custom Service         Volga, SD   \n",
      "24               Rollo Farm Labor Contractor         Miami, FL   \n",
      "25                     Loewen Harvesting LLC    Brownfield, TX   \n",
      "28     Caddo Creek Ranch, dba Paradise Ranch      Caddo, Texas   \n",
      "29                       Autumn Hill Orchard        Groton, MA   \n",
      "30                   Annabella Land & Cattle   Annabella, Utah   \n",
      "31                      Macky and Brad Farms        Plains, TX   \n",
      "51   Old Tree Farms/Verpaalen Custom Service         Volga, SD   \n",
      "55                      Macky and Brad Farms        Plains, TX   \n",
      "56                        Cisco Produce Inc.         Cairo, GA   \n",
      "58                                 F&W Farms       Ingalls, KS   \n",
      "59          Maple Ridge Custom Services, LLC     Altheimer, AR   \n",
      "60                               Mark Duncan     Roosevelt, UT   \n",
      "61                                 SRT Farms        Morton, TX   \n",
      "62                             Sharon Mathis        Tifton, GA   \n",
      "73                              Xavier Horne    Lyons, Georgia   \n",
      "89                              Xavier Horne    Lyons, Georgia   \n",
      "103                         Dove Creek Farms  Mount Vernon, TX   \n",
      "106                             Turner Farms         Healy, KS   \n",
      "109                         Dove Creek Farms  Mount Vernon, TX   \n",
      "111                             Turner Farms         Healy, KS   \n",
      "\n",
      "                                             Violation  Duration  Start date  \\\n",
      "6                                          Non Payment    1 year    5/9/2014   \n",
      "7            Failure to respond to audit (no response)   2 years    7/6/2014   \n",
      "8       Failure to respond to audit (partial response)   2 years   7/20/2014   \n",
      "11      Failure to respond to audit (partial response)    1 year   8/20/2014   \n",
      "12           Failure to respond to audit (no response)   2 years   8/23/2014   \n",
      "14           Failure to respond to audit (no response)   2 years  11/16/2014   \n",
      "15           Failure to respond to audit (no response)   2 years  11/16/2014   \n",
      "16           Failure to respond to audit (no response)   2 years  11/16/2014   \n",
      "17      Failure to respond to audit (partial response)   2 years  11/16/2014   \n",
      "18      Failure to respond to audit (partial response)   2 years  12/10/2014   \n",
      "19           Failure to respond to audit (no response)   2 years  12/10/2014   \n",
      "21                                       WHD Debarment   3 years  12/11/2014   \n",
      "24          Impeding the Audit Process – Non- Response   2 years   8/23/2014   \n",
      "25      Impeding the Audit Process – Partial- Response    1 year   8/20/2014   \n",
      "28      Impeding the Audit Process – Partial- Response   2 years   7/20/2014   \n",
      "29          Impeding the Audit Process – Non- Response   2 years    7/6/2014   \n",
      "30                                         Non-payment    1 year    5/9/2014   \n",
      "31           Failure to respond to audit (no response)    1 year   2/13/2015   \n",
      "51                                 Wage Hour Debarment   3 years   12/1/2014   \n",
      "55      Impeding the Audit Process – Partial- Response    1 year   2/13/2015   \n",
      "56          Impeding the Audit Process – Non- Response   2 years  12/10/2015   \n",
      "58      Impeding the Audit Process – Partial- Response    1 year  12/10/2014   \n",
      "59      Impeding the Audit Process – Partial- Response    1 year  11/16/2014   \n",
      "60          Impeding the Audit Process – Non- Response   2 years  11/16/2014   \n",
      "61          Impeding the Audit Process – Non- Response   2 years  11/16/2014   \n",
      "62          Impeding the Audit Process – Non- Response   2 years  11/16/2014   \n",
      "73                    Non-payment of certification fee    1 year   6/16/2016   \n",
      "89                 Failure to respond to audit request   2 years   9/27/2017   \n",
      "103                Failure to respond to audit request   2 years    2/9/2018   \n",
      "106  Failure to comply with the employer's obligati...  6 months     7/17/19   \n",
      "109                Failure to Respond to Audit Request   2 years    2/9/2018   \n",
      "111  Failure to comply with the employer's obligati...  7 months     7/17/19   \n",
      "\n",
      "       End date  is_repeated  \n",
      "6      5/9/2015         True  \n",
      "7      7/5/2016         True  \n",
      "8     7/19/2016         True  \n",
      "11    8/19/2015         True  \n",
      "12    8/22/2016         True  \n",
      "14   11/15/2016         True  \n",
      "15   11/15/2016         True  \n",
      "16   11/15/2016         True  \n",
      "17   11/15/2016         True  \n",
      "18    12/9/2016         True  \n",
      "19    12/9/2016         True  \n",
      "21   12/10/2017         True  \n",
      "24    8/22/2016         True  \n",
      "25    8/19/2015         True  \n",
      "28    7/19/2016         True  \n",
      "29     7/5/2016         True  \n",
      "30     5/8/2015         True  \n",
      "31    2/12/2016         True  \n",
      "51    12/1/2017         True  \n",
      "55    2/12/2016         True  \n",
      "56    12/9/2017         True  \n",
      "58    12/9/2015         True  \n",
      "59   11/15/2015         True  \n",
      "60   11/15/2016         True  \n",
      "61   11/15/2016         True  \n",
      "62   11/15/2016         True  \n",
      "73    6/15/2017         True  \n",
      "89    9/26/2019         True  \n",
      "103    2/8/2018         True  \n",
      "106   2/10/2020         True  \n",
      "109    2/8/2020         True  \n",
      "111     2/10/20         True  \n",
      "                                     Name      City, State  \\\n",
      "6                 Annabella Land & Cattle    Annabella, UT   \n",
      "7                     Autumn Hill Orchard       Groton, MA   \n",
      "8   Caddo Creek Ranch, dba Paradise Ranch        Caddo, TX   \n",
      "11                  Loewen Harvesting LLC  Brownsville, TX   \n",
      "12            Rollo Farm Labor Contractor        Miami, FL   \n",
      "\n",
      "                                         Violation Duration Start date  \\\n",
      "6                                      Non Payment   1 year   5/9/2014   \n",
      "7        Failure to respond to audit (no response)  2 years   7/6/2014   \n",
      "8   Failure to respond to audit (partial response)  2 years  7/20/2014   \n",
      "11  Failure to respond to audit (partial response)   1 year  8/20/2014   \n",
      "12       Failure to respond to audit (no response)  2 years  8/23/2014   \n",
      "\n",
      "     End date  is_repeated  \n",
      "6    5/9/2015         True  \n",
      "7    7/5/2016         True  \n",
      "8   7/19/2016         True  \n",
      "11  8/19/2015         True  \n",
      "12  8/22/2016         True  \n",
      "(32, 7)\n"
     ]
    }
   ],
   "source": [
    "## part a\n",
    "\n",
    "name_counts = debar['Name'].value_counts(sort = False) # apply value_counts() to count number of times names show up\n",
    "debar['is_repeated'] = debar['Name'].apply(lambda name: name_counts[name] > 1) # create is_repeated based on what name_counts is\n",
    "\n",
    "## part b\n",
    "\n",
    "print(debar[debar['is_repeated']])\n",
    "\n",
    "# Q) Print the rows where is_repeated == True and interpret\n",
    "# A) These are the rows in which companies had multiple violations or were duplicate data. To provide an example for the multiple violations, \n",
    "# Xavier Horne had a non-payment of certification fee violation and a failure to respond to audit request violation. \n",
    "\n",
    "## part c\n",
    "\n",
    "mult_debar = debar[debar['is_repeated']]\n",
    "print(mult_debar.head())\n",
    "print(mult_debar.shape)"
   ]
  },
  {
   "cell_type": "markdown",
   "metadata": {},
   "source": [
    "## 1.3 Reshape mult_debar to wide to begin filtering out duplicates (4 points)\n",
    "\n",
    "You want to separate out two cases:\n",
    "\n",
    "- Cases where the repeat rows for one employer are due to duplicated data \n",
    "- Cases where the repeat rows for one employer represent repeated violations for different issues\n",
    "\n",
    "There are various ways to check duplicates in this data (eg converting `Violation` to lowercase; replacing spelled-out states with two-dig state codes)\n",
    "\n",
    "We're going to use the simple rule of:\n",
    "\n",
    "- A row is a duplicate if, within an employer (defined by Name + City, State), the Start date for each row's violation is the same \n",
    "\n",
    "To begin to check this, reshape `mult_debar` to a wide dataframe (`mult_debar_wide`) with the following columns, treating the `Name` and `City, State` as the index for the pivot:\n",
    "\n",
    "- Name\n",
    "- City, State\n",
    "- start_date_viol1\n",
    "- start_date_viol2\n",
    "\n",
    "Print the head and shape"
   ]
  },
  {
   "cell_type": "code",
   "execution_count": 102,
   "metadata": {},
   "outputs": [
    {
     "name": "stdout",
     "output_type": "stream",
     "text": [
      "                                    Name       City, State start_date_viol1  \\\n",
      "0                Annabella Land & Cattle     Annabella, UT         5/9/2014   \n",
      "1                    Autumn Hill Orchard        Groton, MA         7/6/2014   \n",
      "2  Caddo Creek Ranch, dba Paradise Ranch         Caddo, TX        7/20/2014   \n",
      "3                     Cisco Produce Inc.         Cairo, GA       12/10/2014   \n",
      "4                       Dove Creek Farms  Mount Vernon, TX         2/9/2018   \n",
      "\n",
      "  start_date_viol2  \n",
      "0         5/9/2014  \n",
      "1         7/6/2014  \n",
      "2        7/20/2014  \n",
      "3       12/10/2015  \n",
      "4         2/9/2018  \n",
      "(16, 4)\n"
     ]
    }
   ],
   "source": [
    "# fix two errors in code and convert spelled-out states with two-dig state codes\n",
    "\n",
    "wrong_states = {\"Brownfield, TX\" : \"Brownsville, TX\",\n",
    "                     \"Altheimer, AK\" : \"Altheimer, AR\"}\n",
    "\n",
    "state_conversion = {\n",
    "    'Alabama': 'AL', 'Alaska': 'AK', 'Arizona': 'AZ', 'Arkansas': 'AR',\n",
    "    'California': 'CA', 'Colorado': 'CO', 'Connecticut': 'CT', 'Delaware': 'DE',\n",
    "    'Florida': 'FL', 'Georgia': 'GA', 'Hawaii': 'HI', 'Idaho': 'ID',\n",
    "    'Illinois': 'IL', 'Indiana': 'IN', 'Iowa': 'IA', 'Kansas': 'KS',\n",
    "    'Kentucky': 'KY', 'Louisiana': 'LA', 'Maine': 'ME', 'Maryland': 'MD',\n",
    "    'Massachusetts': 'MA', 'Michigan': 'MI', 'Minnesota': 'MN', 'Mississippi': 'MS',\n",
    "    'Missouri': 'MO', 'Montana': 'MT', 'Nebraska': 'NE', 'Nevada': 'NV',\n",
    "    'New Hampshire': 'NH', 'New Jersey': 'NJ', 'New Mexico': 'NM', 'New York': 'NY',\n",
    "    'North Carolina': 'NC', 'North Dakota': 'ND', 'Ohio': 'OH', 'Oklahoma': 'OK',\n",
    "    'Oregon': 'OR', 'Pennsylvania': 'PA', 'Rhode Island': 'RI', 'South Carolina': 'SC',\n",
    "    'South Dakota': 'SD', 'Tennessee': 'TN', 'Texas': 'TX', 'Utah': 'UT',\n",
    "    'Vermont': 'VT', 'Virginia': 'VA', 'Washington': 'WA', 'West Virginia': 'WV',\n",
    "    'Wisconsin': 'WI', 'Wyoming': 'WY'}\n",
    "\n",
    "mult_debar.loc[:, 'City, State'] = mult_debar['City, State'].replace(wrong_states)\n",
    "mult_debar.loc[:, 'City, State'] = mult_debar['City, State'].replace(state_conversion, regex=True)\n",
    "\n",
    "# create violation_number variable to help pivot\n",
    "mult_debar.loc[:, 'violation_number'] = mult_debar.groupby(['Name', 'City, State']).cumcount()\n",
    "\n",
    "# pivot\n",
    "mult_debar_wide = mult_debar.pivot(index = ['Name', 'City, State'], columns = 'violation_number', values = 'Start date').reset_index()\n",
    "\n",
    "# name columns\n",
    "mult_debar_wide.columns = ['Name', 'City, State', 'start_date_viol1', 'start_date_viol2']\n",
    "\n",
    "# print head and shape\n",
    "print(mult_debar_wide.head())\n",
    "print(mult_debar_wide.shape)"
   ]
  },
  {
   "cell_type": "markdown",
   "metadata": {},
   "source": [
    "## 1.4 Filter out duplicates from original debar data (6 points)\n",
    "\n",
    "A. Using `mult_debar_wide`, add a column `is_dup` that takes value of True for cases where start_date_viol1 == start_date_viol2 marking the row as a duplicate\n",
    "\n",
    "B. Going back to the original long-format data you loaded at the beginning- `debar`\n",
    "    - For employers where `is_dup == True` as indicated by your wide-format dataframe, only keep `violnum == viol1`\n",
    "    - For all other employers (so is_dup == False and ones we didnt need to check duplicates for), keep all violnum\n",
    "    - Remove the `is_repeated` column from the `debar` data\n",
    "\n",
    "**Hint**: you can complete part B without a for loop; `pd.concat` with axis = 0 (row binding) is one way\n",
    "\n",
    "Call the resulting dataframe `debar_clean` and print the shape and # of unique employer names"
   ]
  },
  {
   "cell_type": "code",
   "execution_count": 106,
   "metadata": {},
   "outputs": [
    {
     "name": "stdout",
     "output_type": "stream",
     "text": [
      "                                     Name      City, State  \\\n",
      "6                 Annabella Land & Cattle    Annabella, UT   \n",
      "7                     Autumn Hill Orchard       Groton, MA   \n",
      "8   Caddo Creek Ranch, dba Paradise Ranch        Caddo, TX   \n",
      "11                  Loewen Harvesting LLC  Brownsville, TX   \n",
      "12            Rollo Farm Labor Contractor        Miami, FL   \n",
      "\n",
      "                                         Violation Duration Start date  \\\n",
      "6                                      Non Payment   1 year   5/9/2014   \n",
      "7        Failure to respond to audit (no response)  2 years   7/6/2014   \n",
      "8   Failure to respond to audit (partial response)  2 years  7/20/2014   \n",
      "11  Failure to respond to audit (partial response)   1 year  8/20/2014   \n",
      "12       Failure to respond to audit (no response)  2 years  8/23/2014   \n",
      "\n",
      "     End date is_dup  \n",
      "6    5/9/2015   True  \n",
      "7    7/5/2016   True  \n",
      "8   7/19/2016   True  \n",
      "11  8/19/2015   True  \n",
      "12  8/22/2016   True  \n",
      "(105, 7)\n",
      "98\n"
     ]
    }
   ],
   "source": [
    "## part a)\n",
    "\n",
    "mult_debar_wide['is_dup'] = mult_debar_wide['start_date_viol1'] == mult_debar_wide['start_date_viol2']\n",
    "\n",
    "## part b)\n",
    "\n",
    "# merge debar w/ relevant columns of mult_debar_wide\n",
    "debar_merged = pd.merge(debar, mult_debar_wide[['Name', 'City, State', 'is_dup']], on = ['Name', 'City, State'], how = 'left')\n",
    "\n",
    "# use concat to keep first violation for employers with is_dup == True, and for others (False and NaN) keep all rows\n",
    "debar_clean = pd.concat([debar_merged[(debar_merged['is_dup'] == True) & (debar_merged.groupby(['Name', 'City, State']).cumcount() == 0)], debar_merged[(debar_merged['is_dup'] == False) | (debar_merged['is_dup'].isna())]])\n",
    "\n",
    "# remove 'is_repeated' column\n",
    "debar_clean = debar_clean.drop(columns = ['is_repeated'])\n",
    "\n",
    "# print results\n",
    "print(debar_clean.head())\n",
    "print(debar_clean.shape)\n",
    "print(debar_clean['Name'].nunique())"
   ]
  },
  {
   "cell_type": "markdown",
   "metadata": {},
   "source": [
    "# 2. Merging and regex (17 points total)\n",
    "\n"
   ]
  },
  {
   "cell_type": "markdown",
   "metadata": {},
   "source": [
    "## 2.1 Load data on job postings\n",
    "\n",
    "The previous dataset contains a small subset of employers who faced temporary bans due to violations of H-2A program regulations\n",
    "\n",
    "Since most of the bans have expired, we're going to see which of those employers posted new H-2A jobs in the first quarter of 2021 \n",
    "\n",
    "Loading the `jobs_clean.csv` data stored in `pset2_inputdata`"
   ]
  },
  {
   "cell_type": "code",
   "execution_count": 108,
   "metadata": {},
   "outputs": [
    {
     "name": "stdout",
     "output_type": "stream",
     "text": [
      "          CASE_NUMBER                           CASE_STATUS  \\\n",
      "0  H-300-20199-721302      Determination Issued - Withdrawn   \n",
      "1  H-300-20231-773906  Determination Issued - Certification   \n",
      "2  H-300-20231-774123  Determination Issued - Certification   \n",
      "3  H-300-20231-774151  Determination Issued - Certification   \n",
      "4  H-300-20231-774508  Determination Issued - Certification   \n",
      "\n",
      "             RECEIVED_DATE            DECISION_DATE  \\\n",
      "0  2020-07-17 14:50:40.840  2020-10-01 00:00:00.000   \n",
      "1  2020-08-20 10:38:15.620  2020-10-01 00:00:00.000   \n",
      "2  2020-08-24 15:33:14.340  2020-10-01 00:00:00.000   \n",
      "3  2020-08-21 12:08:09.760  2020-10-01 00:00:00.000   \n",
      "4  2020-08-20 10:17:34.530  2020-10-01 00:00:00.000   \n",
      "\n",
      "  TYPE_OF_EMPLOYER_APPLICATION H2A_LABOR_CONTRACTOR NATURE_OF_TEMPORARY_NEED  \\\n",
      "0          Individual Employer                    N                 Seasonal   \n",
      "1          Association - Agent                    N                 Seasonal   \n",
      "2          Individual Employer                    N                 Seasonal   \n",
      "3          Individual Employer                    N                 Seasonal   \n",
      "4          Individual Employer                    Y                 Seasonal   \n",
      "\n",
      "  EMERGENCY_FILING                       EMPLOYER_NAME  \\\n",
      "0                Y  Fazio Farms Operating Company, LLC   \n",
      "1                N                  Charlie Sunderland   \n",
      "2                N                   Michael Rudebusch   \n",
      "3                N                        Lodahl Farms   \n",
      "4                N             Dunson Harvesting, Inc.   \n",
      "\n",
      "                TRADE_NAME_DBA  ... ADDENDUM_B_HOUSING_ATTACHED  \\\n",
      "0                          NaN  ...                           N   \n",
      "1  Panter & Sunderland Nursery  ...                           N   \n",
      "2                          NaN  ...                           N   \n",
      "3                          NaN  ...                           Y   \n",
      "4      Dunson Harvesting, Inc.  ...                           Y   \n",
      "\n",
      "  TOTAL_HOUSING_RECORDS MEALS_PROVIDED MEALS_CHARGED  \\\n",
      "0                     1              Y         12.68   \n",
      "1                     1              N           NaN   \n",
      "2                     1              N           NaN   \n",
      "3                     2              N           NaN   \n",
      "4                     8              N           NaN   \n",
      "\n",
      "  MEAL_REIMBURSEMENT_MINIMUM MEAL_REIMBURSEMENT_MAXIMUM PHONE_TO_APPLY  \\\n",
      "0                      12.68                       55.0    13607017661   \n",
      "1                      12.68                       55.0    19318083783   \n",
      "2                      12.68                       55.0    19369333827   \n",
      "3                      12.68                       55.0    14069637560   \n",
      "4                      12.68                       55.0    18632939888   \n",
      "\n",
      "                  EMAIL_TO_APPLY                             WEBSITE_TO_APPLY  \\\n",
      "0           faziofarms@gmail.com                                          NaN   \n",
      "1                            NaN  https://www.jobs4tn.gov/vosnet/Default.aspx   \n",
      "2  fayethlynpitre@rocketmail.com                                          NaN   \n",
      "3        lodahl_kelsey@yahoo.com                                          NaN   \n",
      "4                            NaN                        www.employflorida.com   \n",
      "\n",
      "   TOTAL_ADDENDUM_A_RECORDS  \n",
      "0                         0  \n",
      "1                         0  \n",
      "2                         0  \n",
      "3                         0  \n",
      "4                         4  \n",
      "\n",
      "[5 rows x 138 columns]\n"
     ]
    }
   ],
   "source": [
    "# load data\n",
    "\n",
    "jobs = pd.read_csv(\"/Users/danielzhou/Documents/GitHub/my_QSS20/my_homework/pset2_inputdata/jobs.csv\")\n",
    "print(jobs.head())"
   ]
  },
  {
   "cell_type": "markdown",
   "metadata": {},
   "source": [
    "##  2.2 Try inner join on employer name  (2 points)\n",
    "\n",
    "- Use the `EMPLOYER_NAME` field of the `jobs` dataset\n",
    "- Use the `Name` field of the `debar_clean` dataset \n",
    "\n",
    "A. Use pd.merge with an inner join on those fields to see whether there are any exact matches. \n",
    "\n",
    "B. If there are exact matches, print the row(s) with exact matches\n",
    "\n"
   ]
  },
  {
   "cell_type": "code",
   "execution_count": 110,
   "metadata": {},
   "outputs": [
    {
     "name": "stdout",
     "output_type": "stream",
     "text": [
      "          CASE_NUMBER                           CASE_STATUS  \\\n",
      "0  H-300-20287-876656  Determination Issued - Certification   \n",
      "\n",
      "             RECEIVED_DATE            DECISION_DATE  \\\n",
      "0  2020-10-20 09:20:32.010  2020-11-09 00:00:00.000   \n",
      "\n",
      "  TYPE_OF_EMPLOYER_APPLICATION H2A_LABOR_CONTRACTOR NATURE_OF_TEMPORARY_NEED  \\\n",
      "0          Individual Employer                    Y                 Seasonal   \n",
      "\n",
      "  EMERGENCY_FILING   EMPLOYER_NAME TRADE_NAME_DBA  ... EMAIL_TO_APPLY  \\\n",
      "0                Y  Rafael Barajas            NaN  ...            NaN   \n",
      "\n",
      "                WEBSITE_TO_APPLY TOTAL_ADDENDUM_A_RECORDS            Name  \\\n",
      "0  https://seasonaljobs.dol.gov/                        7  Rafael Barajas   \n",
      "\n",
      "        City, State                         Violation Duration  Start date  \\\n",
      "0  Sebring, Florida  Non-payment of certification fee   1 year   9/23/2016   \n",
      "\n",
      "    End date  is_dup  \n",
      "0  9/22/2017     NaN  \n",
      "\n",
      "[1 rows x 145 columns]\n"
     ]
    }
   ],
   "source": [
    "## part a)\n",
    "\n",
    "jobs_debar_clean_merge = pd.merge(jobs, debar_clean, left_on = 'EMPLOYER_NAME', right_on = 'Name', how = 'inner')\n",
    "\n",
    "## part b)\n",
    "\n",
    "print(jobs_debar_clean_merge) # since there is only one row where there are exact matches"
   ]
  },
  {
   "cell_type": "markdown",
   "metadata": {},
   "source": [
    "## 2.3 Targeted regex (10 points total)\n",
    "\n",
    "You want to see if you can increase the exact match rate with some basic cleaning of each \n",
    "of the employer name fields in each dataset "
   ]
  },
  {
   "cell_type": "markdown",
   "metadata": {},
   "source": [
    "### 2.3.1 Converting to upper (2 points)\n",
    "\n",
    "A. Convert the `EMPLOYER_NAME` and `Name` fields to uppercase using list comprehension rather than df.varname.str.upper() (it's fine to do a separate list comprehension line for each of the two columns)\n",
    "\n",
    "B. Print a random sample of 15 values of each result\n",
    "\n",
    "C. Assign the full vector of uppercase names back to the original data, writing over the original `EMPLOYER_NAME` and `Name` columns \n"
   ]
  },
  {
   "cell_type": "code",
   "execution_count": 120,
   "metadata": {},
   "outputs": [],
   "source": [
    "## part a)\n",
    "\n",
    "employer_name_upper = [name.upper() for name in jobs['EMPLOYER_NAME']]\n",
    "name_upper = [name.upper() for name in debar_clean['Name']]"
   ]
  },
  {
   "cell_type": "code",
   "execution_count": 122,
   "metadata": {},
   "outputs": [
    {
     "name": "stdout",
     "output_type": "stream",
     "text": [
      "['FRESH HARVEST, INC.', 'ROBBIE DEVILLIER FARMS AND SERVICES LLC', 'PUZZLEWOOD RANCH CO', 'WESTERN RANGE ASSOCIATION', 'BONNIE PLANTS, INC.', 'BADILLO BROTHERS, INC.', 'JOSE M. GRACIA HARVESTING, INC.', 'WESTERN RANGE ASSOCIATION', 'DUNCAN FAMILY FARMS LLC ', 'WENDELL ZAUNBRECHER', 'SHOTKOSKI HAY FARMS', 'BONK FARMS LLC', 'ELMORE TRUCK REPAIR', 'KYLE SIEBERT FARMS', 'TYBRIT INC']\n",
      "['ALTERIC JEAN-CHARLES', 'DANECO, LLC', 'TURNER FARMS', 'DAVID JACKSON', 'AVOYELLES HONEY CO., LLC', 'VALLEY VIEW ORCHARDS', 'ROSALVA GARCIA', 'CITY PINESTRAW AND HARVESTING', 'CIRA CORTEZ LOPEZ', 'MARK DUNCAN', 'STAHLMAN APIARIES, INC', 'CISCO PRODUCE INC.', 'RAFAEL BARAJAS', 'AGECY I LLC', 'IRISH FLATS']\n"
     ]
    }
   ],
   "source": [
    "## part b)\n",
    "\n",
    "print(random.sample(employer_name_upper, 15))\n",
    "print(random.sample(name_upper, 15))"
   ]
  },
  {
   "cell_type": "code",
   "execution_count": 124,
   "metadata": {},
   "outputs": [
    {
     "name": "stdout",
     "output_type": "stream",
     "text": [
      "          CASE_NUMBER                           CASE_STATUS  \\\n",
      "0  H-300-20199-721302      Determination Issued - Withdrawn   \n",
      "1  H-300-20231-773906  Determination Issued - Certification   \n",
      "2  H-300-20231-774123  Determination Issued - Certification   \n",
      "3  H-300-20231-774151  Determination Issued - Certification   \n",
      "4  H-300-20231-774508  Determination Issued - Certification   \n",
      "\n",
      "             RECEIVED_DATE            DECISION_DATE  \\\n",
      "0  2020-07-17 14:50:40.840  2020-10-01 00:00:00.000   \n",
      "1  2020-08-20 10:38:15.620  2020-10-01 00:00:00.000   \n",
      "2  2020-08-24 15:33:14.340  2020-10-01 00:00:00.000   \n",
      "3  2020-08-21 12:08:09.760  2020-10-01 00:00:00.000   \n",
      "4  2020-08-20 10:17:34.530  2020-10-01 00:00:00.000   \n",
      "\n",
      "  TYPE_OF_EMPLOYER_APPLICATION H2A_LABOR_CONTRACTOR NATURE_OF_TEMPORARY_NEED  \\\n",
      "0          Individual Employer                    N                 Seasonal   \n",
      "1          Association - Agent                    N                 Seasonal   \n",
      "2          Individual Employer                    N                 Seasonal   \n",
      "3          Individual Employer                    N                 Seasonal   \n",
      "4          Individual Employer                    Y                 Seasonal   \n",
      "\n",
      "  EMERGENCY_FILING                       EMPLOYER_NAME  \\\n",
      "0                Y  FAZIO FARMS OPERATING COMPANY, LLC   \n",
      "1                N                  CHARLIE SUNDERLAND   \n",
      "2                N                   MICHAEL RUDEBUSCH   \n",
      "3                N                        LODAHL FARMS   \n",
      "4                N             DUNSON HARVESTING, INC.   \n",
      "\n",
      "                TRADE_NAME_DBA  ... TOTAL_HOUSING_RECORDS MEALS_PROVIDED  \\\n",
      "0                          NaN  ...                     1              Y   \n",
      "1  Panter & Sunderland Nursery  ...                     1              N   \n",
      "2                          NaN  ...                     1              N   \n",
      "3                          NaN  ...                     2              N   \n",
      "4      Dunson Harvesting, Inc.  ...                     8              N   \n",
      "\n",
      "  MEALS_CHARGED MEAL_REIMBURSEMENT_MINIMUM MEAL_REIMBURSEMENT_MAXIMUM  \\\n",
      "0         12.68                      12.68                       55.0   \n",
      "1           NaN                      12.68                       55.0   \n",
      "2           NaN                      12.68                       55.0   \n",
      "3           NaN                      12.68                       55.0   \n",
      "4           NaN                      12.68                       55.0   \n",
      "\n",
      "  PHONE_TO_APPLY                 EMAIL_TO_APPLY  \\\n",
      "0    13607017661           faziofarms@gmail.com   \n",
      "1    19318083783                            NaN   \n",
      "2    19369333827  fayethlynpitre@rocketmail.com   \n",
      "3    14069637560        lodahl_kelsey@yahoo.com   \n",
      "4    18632939888                            NaN   \n",
      "\n",
      "                              WEBSITE_TO_APPLY  TOTAL_ADDENDUM_A_RECORDS  \\\n",
      "0                                          NaN                         0   \n",
      "1  https://www.jobs4tn.gov/vosnet/Default.aspx                         0   \n",
      "2                                          NaN                         0   \n",
      "3                                          NaN                         0   \n",
      "4                        www.employflorida.com                         4   \n",
      "\n",
      "                           name_clean  \n",
      "0  Fazio Farms Operating Company, LLC  \n",
      "1                  Charlie Sunderland  \n",
      "2                   Michael Rudebusch  \n",
      "3                        Lodahl Farms  \n",
      "4             Dunson Harvesting, Inc.  \n",
      "\n",
      "[5 rows x 139 columns]\n",
      "                                     Name      City, State  \\\n",
      "6                 ANNABELLA LAND & CATTLE    Annabella, UT   \n",
      "7                     AUTUMN HILL ORCHARD       Groton, MA   \n",
      "8   CADDO CREEK RANCH, DBA PARADISE RANCH        Caddo, TX   \n",
      "11                  LOEWEN HARVESTING LLC  Brownsville, TX   \n",
      "12            ROLLO FARM LABOR CONTRACTOR        Miami, FL   \n",
      "\n",
      "                                         Violation Duration Start date  \\\n",
      "6                                      Non Payment   1 year   5/9/2014   \n",
      "7        Failure to respond to audit (no response)  2 years   7/6/2014   \n",
      "8   Failure to respond to audit (partial response)  2 years  7/20/2014   \n",
      "11  Failure to respond to audit (partial response)   1 year  8/20/2014   \n",
      "12       Failure to respond to audit (no response)  2 years  8/23/2014   \n",
      "\n",
      "     End date is_dup                             name_clean  \n",
      "6    5/9/2015   True                Annabella Land & Cattle  \n",
      "7    7/5/2016   True                    Autumn Hill Orchard  \n",
      "8   7/19/2016   True  Caddo Creek Ranch, dba Paradise Ranch  \n",
      "11  8/19/2015   True                  Loewen Harvesting LLC  \n",
      "12  8/22/2016   True            Rollo Farm Labor Contractor  \n"
     ]
    }
   ],
   "source": [
    "## part c)\n",
    "\n",
    "jobs['EMPLOYER_NAME'] = employer_name_upper\n",
    "debar_clean['Name'] = name_upper\n",
    "\n",
    "print(jobs.head())\n",
    "print(debar_clean.head())"
   ]
  },
  {
   "cell_type": "markdown",
   "metadata": {},
   "source": [
    "### 2.3.2 Cleaning up punctuation (4 points)\n",
    "\n",
    "You notice that INC, CO, and LLC are sometimes followed by a period (.) but sometimes not\n",
    "\n",
    "A. For each dataset, write a regex pattern using `re.sub` to remove the . but only if it's preceded by INC, LLC, or CO \n",
    "\n",
    "Make sure LLC, INC, CO remain part of the string but just without the dot\n",
    "\n",
    "B. Test the pattern on the positive and negative example we provide below and print the result. See the Github issue for examples of what to return\n",
    "\n",
    "\n",
    "**Hint**: https://stackoverflow.com/questions/7191209/python-re-sub-replace-with-matched-content\n",
    "\n"
   ]
  },
  {
   "cell_type": "code",
   "execution_count": 126,
   "metadata": {},
   "outputs": [],
   "source": [
    "pos_example_1 = \"CISCO PRODUCE INC.\"\n",
    "pos_example_2 = \"AVOYELLES HONEY CO., LLC\"\n",
    "neg_example = \"E.V. RANCH LLP\""
   ]
  },
  {
   "cell_type": "code",
   "execution_count": 128,
   "metadata": {},
   "outputs": [
    {
     "name": "stdout",
     "output_type": "stream",
     "text": [
      "CISCO PRODUCE INC\n",
      "AVOYELLES HONEY CO, LLC\n",
      "E.V. RANCH LLP\n"
     ]
    }
   ],
   "source": [
    "## part a)\n",
    "\n",
    "regex = r'(INC|LLC|CO)\\.'\n",
    "\n",
    "## part b)\n",
    "\n",
    "print(re.sub(regex, r'\\1', pos_example_1))\n",
    "print(re.sub(regex, r'\\1', pos_example_2))\n",
    "print(re.sub(regex, r'\\1', neg_example))"
   ]
  },
  {
   "cell_type": "markdown",
   "metadata": {},
   "source": [
    "### 2.3.3 (4 points)\n",
    "\n",
    "Use that pattern in conjunction with `re.sub` and list comprehension to clean the employer name columns in each dataset. Save the new columns as `name_clean` in each. Then, use row subsetting to (1) subset to rows that changed names and (2) for:\n",
    "\n",
    "- `debar_clean` print the `Name` and `name_clean` columns\n",
    "- `jobs` print the `EMPLOYER_NAME` and `name_clean` columns\n",
    "\n",
    "Make sure to use the uppercase versions of the variables\n"
   ]
  },
  {
   "cell_type": "code",
   "execution_count": 130,
   "metadata": {},
   "outputs": [
    {
     "name": "stdout",
     "output_type": "stream",
     "text": [
      "                                Name                       name_clean\n",
      "3              ANTON FERTILIZER INC.             ANTON FERTILIZER INC\n",
      "4   GREAT PLAINS FLUID SERVICE, INC.  GREAT PLAINS FLUID SERVICE, INC\n",
      "5                        PROMAX INC.                       PROMAX INC\n",
      "13                     REIMER'S INC.                     REIMER'S INC\n",
      "19                CISCO PRODUCE INC.                CISCO PRODUCE INC\n",
      "                               EMPLOYER_NAME  \\\n",
      "4                    DUNSON HARVESTING, INC.   \n",
      "7   FARM LABOR ASSOCIATION FOR GROWERS, INC.   \n",
      "14                        MCLAIN FARMS, INC.   \n",
      "17                       BONNIE PLANTS, INC.   \n",
      "18               B & W QUALITY GROWERS, INC.   \n",
      "\n",
      "                                 name_clean  \n",
      "4                    DUNSON HARVESTING, INC  \n",
      "7   FARM LABOR ASSOCIATION FOR GROWERS, INC  \n",
      "14                        MCLAIN FARMS, INC  \n",
      "17                       BONNIE PLANTS, INC  \n",
      "18               B & W QUALITY GROWERS, INC  \n"
     ]
    }
   ],
   "source": [
    "# clean punctuation for debar_clean and jobs using clean_punctuation function\n",
    "debar_clean['name_clean'] = [re.sub(regex, r'\\1', name) for name in debar_clean['Name']]\n",
    "jobs['name_clean'] = [re.sub(regex, r'\\1', name) for name in jobs['EMPLOYER_NAME']]\n",
    "\n",
    "# subset to rows where names were changed\n",
    "debar_clean_subset = debar_clean[debar_clean['Name'] != debar_clean['name_clean']] # for debar_clean\n",
    "jobs_subset = jobs[jobs['EMPLOYER_NAME'] != jobs['name_clean']] # for jobs\n",
    "\n",
    "# print original and changed names\n",
    "print(debar_clean_subset[['Name', 'name_clean']].head())\n",
    "print(jobs_subset[['EMPLOYER_NAME', 'name_clean']].head())"
   ]
  },
  {
   "cell_type": "markdown",
   "metadata": {},
   "source": [
    "## 2.4 More joins and more cleaning (5 points)\n",
    "\n",
    "A. Conduct another inner join between `jobs` and `debar_clean` now using the `name_clean` column; print the result. Did the cleaning result in any more employers matched between the two datasets?\n",
    "\n",
    "B. Create a new column in `debar_clean` called `name_clean_2` that uses regex to take the following name in that dataset:\n",
    "\n",
    "- `SLASH E.V. RANCH LLP` in the `debar_clean` dataset\n",
    "\n",
    "And cleans it up so that it matches with this employer in `jobs`\n",
    "\n",
    "- `SLASH EV RANCH` in the `jobs` dataset\n",
    "\n",
    "Eg a pattern to remove the dots in the EV and the space+LLP-- you can apply the pattern to all employer names in debar_clean (so don't need to worry about only applying it to that one employer)\n",
    "\n",
    "\n",
    "C. Conduct a left join using `name_clean_2` as the join column where the left hand dataframe is `jobs`; right hand dataframe is `debar_clean`, store the result as a dataframe, and print the rows where the merge indicator indicates the row was found in both dataframe\n",
    "\n",
    "**Note**: this manual cleaning process is inefficient and helps motivate why talked about fuzzy matching. Fuzzy matching could recognize that Slash EV ranch is a highly similar string to slash ev ranch llp and match them without us needing to use regex to make the strings identical."
   ]
  },
  {
   "cell_type": "code",
   "execution_count": 96,
   "metadata": {},
   "outputs": [
    {
     "name": "stdout",
     "output_type": "stream",
     "text": [
      "          CASE_NUMBER                           CASE_STATUS  \\\n",
      "0  H-300-20287-876656  Determination Issued - Certification   \n",
      "\n",
      "             RECEIVED_DATE            DECISION_DATE  \\\n",
      "0  2020-10-20 09:20:32.010  2020-11-09 00:00:00.000   \n",
      "\n",
      "  TYPE_OF_EMPLOYER_APPLICATION H2A_LABOR_CONTRACTOR NATURE_OF_TEMPORARY_NEED  \\\n",
      "0          Individual Employer                    Y                 Seasonal   \n",
      "\n",
      "  EMERGENCY_FILING   EMPLOYER_NAME TRADE_NAME_DBA  ...            Name  \\\n",
      "0                Y  RAFAEL BARAJAS            NaN  ...  RAFAEL BARAJAS   \n",
      "\n",
      "        City, State                         Violation Duration Start date  \\\n",
      "0  Sebring, Florida  Non-payment of certification fee   1 year  9/23/2016   \n",
      "\n",
      "    End date is_dup    name_clean_2         co_name        ind_name  \n",
      "0  9/22/2017    NaN  RAFAEL BARAJAS  RAFAEL BARAJAS  RAFAEL BARAJAS  \n",
      "\n",
      "[1 rows x 149 columns]\n",
      "             CASE_NUMBER                           CASE_STATUS  \\\n",
      "791   H-300-20287-876656  Determination Issued - Certification   \n",
      "1115  H-300-20306-894148  Determination Issued - Certification   \n",
      "\n",
      "                RECEIVED_DATE            DECISION_DATE  \\\n",
      "791   2020-10-20 09:20:32.010  2020-11-09 00:00:00.000   \n",
      "1115  2020-11-02 18:11:29.140  2020-11-24 00:00:00.000   \n",
      "\n",
      "     TYPE_OF_EMPLOYER_APPLICATION H2A_LABOR_CONTRACTOR  \\\n",
      "791           Individual Employer                    Y   \n",
      "1115          Individual Employer                    N   \n",
      "\n",
      "     NATURE_OF_TEMPORARY_NEED EMERGENCY_FILING   EMPLOYER_NAME TRADE_NAME_DBA  \\\n",
      "791                  Seasonal                Y  RAFAEL BARAJAS            NaN   \n",
      "1115                 Seasonal                N  SLASH EV RANCH            NaN   \n",
      "\n",
      "      ...                         Violation Duration  Start date    End date  \\\n",
      "791   ...  Non-payment of certification fee   1 year   9/23/2016   9/22/2017   \n",
      "1115  ...                     WHD Debarment   1 year  11/15/2014  11/14/2015   \n",
      "\n",
      "     is_dup          name_clean_y    name_clean_2               co_name  \\\n",
      "791     NaN        RAFAEL BARAJAS  RAFAEL BARAJAS        RAFAEL BARAJAS   \n",
      "1115    NaN  SLASH E.V. RANCH LLP  SLASH EV RANCH  SLASH E.V. RANCH LLP   \n",
      "\n",
      "                  ind_name  _merge  \n",
      "791         RAFAEL BARAJAS    both  \n",
      "1115  SLASH E.V. RANCH LLP    both  \n",
      "\n",
      "[2 rows x 151 columns]\n"
     ]
    }
   ],
   "source": [
    "## part a)\n",
    "\n",
    "jobs_debar_clean_merge_2 = pd.merge(jobs, debar_clean, left_on = 'name_clean', right_on = 'name_clean', how = 'inner')\n",
    "print(jobs_debar_clean_merge_2)\n",
    "\n",
    "## Q) Did the cleaning result in any more employers matched between the two datasets?\n",
    "## A) No. \n",
    "\n",
    "## part b)\n",
    "\n",
    "# write function to convert 'E.V.' to 'EV' and remove ' LLC'\n",
    "def clean_ev_llc(text):\n",
    "    cleaned_name = re.sub(r'E\\.V\\.', 'EV', text) # convert 'E.V.' to 'EV'\n",
    "    cleaned_name = re.sub(r'\\sLLP', '', cleaned_name)  # Remove \"LLP\"\n",
    "    return cleaned_name\n",
    "\n",
    "# apply pattern to data\n",
    "debar_clean['name_clean_2'] = [clean_ev_llc(name) for name in debar_clean['name_clean']]\n",
    "\n",
    "## part c)\n",
    "\n",
    "left_join_result = pd.merge(jobs, debar_clean, left_on = 'name_clean', right_on = 'name_clean_2', how = 'left', indicator = True)\n",
    "print(left_join_result[left_join_result['_merge'] == 'both'])"
   ]
  },
  {
   "cell_type": "markdown",
   "metadata": {},
   "source": [
    "# 3. Optional extra credit 1: regex to separate companies from individuals (1 point)\n",
    "\n",
    "You notice some employers in `debar_clean` have both the name of the company and the name of individual, e.g.:\n",
    "    \n",
    "COUNTY FAIR FARM (COMPANY) AND ANDREW WILLIAMSON (INDIVIDUAL)*\n",
    "\n",
    "Use the uppercase/cleaned `name_clean` in `debar_clean`\n",
    "\n",
    "A. Write a regex pattern that does the following:\n",
    "    - Captures the pattern that occurs before COMPANY if (COMPANY) is in string; so in example above, extracts COUNTY FAIR FARM \n",
    "    - Captures the pattern that occurs before INDIVIDUAL if (INDIVIDUAL) is also in string -- so in above, extracts ANDREW WILLIAMSON (so omit the \"and\")\n",
    "    \n",
    "B. Test the pattern on `pos_example` and `neg_example`-- make sure former returns a list (if using find.all) or match object (if using re.search) with the company name and individual name separated out; make sure latter returns empty\n",
    "    \n",
    "**Hints and resources**: for step A, you can either use re.search, re.match, or re.findall; don't worry about matching B&R Harvesting and Paul Cruz (Individual)\n",
    "\n",
    "- Same regex resources as above\n",
    "    "
   ]
  },
  {
   "cell_type": "code",
   "execution_count": 78,
   "metadata": {},
   "outputs": [],
   "source": [
    "pos_example = \"COUNTY FAIR FARM (COMPANY) AND ANDREW WILLIAMSON (INDIVIDUAL)*\"\n",
    "neg_example = \"CISCO PRODUCE INC\"\n",
    "\n",
    "## your code here to define the pattern\n",
    "\n",
    "regex = r'^(.*?)(?:\\(COMPANY\\))?\\sAND\\s(.*?)\\(INDIVIDUAL\\)\\*'\n",
    "\n",
    "## helper function\n",
    "\n",
    "def company_individual(text):\n",
    "    match = re.search(regex, text)\n",
    "    if match:\n",
    "        company_name = match.group(1).strip()\n",
    "        individual_name = match.group(2).strip()\n",
    "        return 'Company Name: ' + company_name + ', Individual Name: ' + individual_name # return respective company and individual names\n",
    "    else:\n",
    "        return '' # return empty string if not applicable"
   ]
  },
  {
   "cell_type": "code",
   "execution_count": 80,
   "metadata": {},
   "outputs": [
    {
     "name": "stdout",
     "output_type": "stream",
     "text": [
      "Company Name: COUNTY FAIR FARM, Individual Name: ANDREW WILLIAMSON\n"
     ]
    }
   ],
   "source": [
    "## your code here to apply it to the pos_example\n",
    "\n",
    "print(company_individual(pos_example))"
   ]
  },
  {
   "cell_type": "code",
   "execution_count": 82,
   "metadata": {},
   "outputs": [
    {
     "name": "stdout",
     "output_type": "stream",
     "text": [
      "\n"
     ]
    }
   ],
   "source": [
    "## your code here to apply it to the neg_example\n",
    "\n",
    "print(company_individual(neg_example))"
   ]
  },
  {
   "cell_type": "markdown",
   "metadata": {},
   "source": [
    "C. Iterate over the `name_clean` column in debar and use regex to create two new columns in `debar_clean`:\n",
    "   - `co_name`: A column for company (full `name_clean` string if no match; pattern before COMPANY if one extracted)\n",
    "   - `ind_name`: A column for individual (full `name_clean` string if no match; pattern before INDIVIDUAL if one extracted)\n",
    " \n"
   ]
  },
  {
   "cell_type": "code",
   "execution_count": 84,
   "metadata": {},
   "outputs": [],
   "source": [
    "# alter helper function from above\n",
    "\n",
    "def company_individual_1(text):\n",
    "    match = re.search(regex, text)\n",
    "    if match:\n",
    "        company_name = match.group(1).strip()\n",
    "        individual_name = match.group(2).strip()\n",
    "    else:\n",
    "        company_name = text\n",
    "        individual_name = text\n",
    "    return company_name, individual_name\n",
    "\n",
    "# apply function to data\n",
    "\n",
    "debar_clean[['co_name', 'ind_name']] = debar_clean['name_clean'].apply(lambda name: pd.Series(company_individual_1(name)))"
   ]
  },
  {
   "cell_type": "markdown",
   "metadata": {},
   "source": [
    "   \n",
    "D. Print three columns for the rows in `debar_clean` containing the negative example and positive example described above (county fair farm and cisco produce):\n",
    "\n",
    "- `name_clean`\n",
    "- `co_name`\n",
    "- `ind_name`\n",
    "- `Violation`\n",
    "\n",
    "**Note**: as shown in the outcome there may be duplicates of the same company reflecting different violations"
   ]
  },
  {
   "cell_type": "code",
   "execution_count": 86,
   "metadata": {},
   "outputs": [
    {
     "name": "stdout",
     "output_type": "stream",
     "text": [
      "                                            name_clean            co_name  \\\n",
      "19                                   CISCO PRODUCE INC  CISCO PRODUCE INC   \n",
      "56                                   CISCO PRODUCE INC  CISCO PRODUCE INC   \n",
      "108  COUNTY FAIR FARM (COMPANY) AND ANDREW WILLIAMS...   COUNTY FAIR FARM   \n",
      "\n",
      "              ind_name                                   Violation  \n",
      "19   CISCO PRODUCE INC   Failure to respond to audit (no response)  \n",
      "56   CISCO PRODUCE INC  Impeding the Audit Process – Non- Response  \n",
      "108  ANDREW WILLIAMSON                               WHD Debarment  \n"
     ]
    }
   ],
   "source": [
    "# your code here\n",
    "\n",
    "debar_clean_1 = debar_clean[['name_clean', 'co_name', 'ind_name', 'Violation']]\n",
    "print(debar_clean_1[(debar_clean_1['name_clean'] == 'COUNTY FAIR FARM (COMPANY) AND ANDREW WILLIAMSON (INDIVIDUAL)*') | (debar_clean_1['name_clean'] == 'CISCO PRODUCE INC')])"
   ]
  },
  {
   "cell_type": "markdown",
   "metadata": {},
   "source": [
    "# 4. Optional extra credit 2 (up to 3 points)\n",
    "\n",
    "- For 1 point extra credit, create a visualization with 1+ of the existing fields in either the raw `jobs` or `debar` data. We'll be showing cool visualizations in class so use your imagination! Options could include visualizing between-state or over-time variation\n",
    "\n",
    "- For 3 points extra credit instead, geocode the employer addresses in `jobs` and plot the addresses of jobs as points overlaid on top of a map of Georgia \n",
    "    - **Note**: this extra credit involves Googling since we have not yet covered spatial data. \n",
    "        - For discussion of how to geocode addresses -> lat/long, see: https://www.natasshaselvaraj.com/a-step-by-step-guide-on-geocoding-in-python/ \n",
    "        - For discussion of plotting lat/long dots against a map, see this discussion of geopandas: https://towardsdatascience.com/plotting-maps-with-geopandas-428c97295a73\n",
    "    - Relevant columns include `EMPLOYER_ADDRESS_1` \n",
    "    - The geocoding might have a long runtime so feel free to implement it in a separate .py script that you submit alongside your notebook and to just read in the geocoded data"
   ]
  },
  {
   "cell_type": "code",
   "execution_count": 88,
   "metadata": {},
   "outputs": [
    {
     "data": {
      "text/plain": [
       "<Figure size 1000x600 with 0 Axes>"
      ]
     },
     "execution_count": 88,
     "metadata": {},
     "output_type": "execute_result"
    },
    {
     "data": {
      "text/plain": [
       "<Axes: xlabel='Violation'>"
      ]
     },
     "execution_count": 88,
     "metadata": {},
     "output_type": "execute_result"
    },
    {
     "data": {
      "text/plain": [
       "Text(0.5, 1.0, 'Most Common Violations')"
      ]
     },
     "execution_count": 88,
     "metadata": {},
     "output_type": "execute_result"
    },
    {
     "data": {
      "text/plain": [
       "Text(0.5, 0, 'Violation')"
      ]
     },
     "execution_count": 88,
     "metadata": {},
     "output_type": "execute_result"
    },
    {
     "data": {
      "text/plain": [
       "Text(0, 0.5, 'Frequency')"
      ]
     },
     "execution_count": 88,
     "metadata": {},
     "output_type": "execute_result"
    },
    {
     "data": {
      "image/png": "[encoded data removed]",
      "text/plain": [
       "<Figure size 1000x600 with 1 Axes>"
      ]
     },
     "metadata": {},
     "output_type": "display_data"
    }
   ],
   "source": [
    "## create bar chart showing the most common violations\n",
    "\n",
    "import matplotlib.pyplot as plt\n",
    "\n",
    "# count each type of violation\n",
    "freq_violation = debar['Violation'].value_counts()\n",
    "\n",
    "# create plot\n",
    "plt.figure(figsize = (10, 6))\n",
    "freq_violation.plot(kind='bar')\n",
    "plt.title('Most Common Violations')\n",
    "plt.xlabel('Violation')\n",
    "plt.ylabel('Frequency')\n",
    "plt.show()"
   ]
  }
 ],
 "metadata": {
  "kernelspec": {
   "display_name": "Python 3 (ipykernel)",
   "language": "python",
   "name": "python3"
  },
  "language_info": {
   "codemirror_mode": {
    "name": "ipython",
    "version": 3
   },
   "file_extension": ".py",
   "mimetype": "text/x-python",
   "name": "python",
   "nbconvert_exporter": "python",
   "pygments_lexer": "ipython3",
   "version": "3.12.4"
  }
 },
 "nbformat": 4,
 "nbformat_minor": 4
}
